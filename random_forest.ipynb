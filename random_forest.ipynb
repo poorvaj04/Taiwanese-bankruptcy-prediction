{
 "cells": [
  {
   "cell_type": "code",
   "execution_count": 4,
   "metadata": {},
   "outputs": [
    {
     "name": "stdout",
     "output_type": "stream",
     "text": [
      "Found 14 matching features: ['Net profit before tax/Paid-in capital', 'Persistent EPS in the Last Four Seasons', 'Operating Gross Margin', 'Cash Flow to Total Assets', 'Total Asset Turnover', 'Cash/Current Liability', 'Net Value Per Share (A)', 'Quick Ratio', 'Operating Profit Rate', 'Net Income to Total Assets', 'Retained Earnings to Total Assets', 'Interest Expense Ratio', 'ROA(C) before interest and depreciation before interest', 'Interest-bearing debt interest rate']\n",
      "Random Forest Performance with Top Features:\n",
      "Accuracy: 0.9699\n",
      "Precision: 0.6000\n",
      "Recall: 0.2045\n",
      "F1 Score: 0.3051\n",
      "\n",
      "Classification Report:\n",
      "              precision    recall  f1-score   support\n",
      "\n",
      "           0       0.97      1.00      0.98      1320\n",
      "           1       0.60      0.20      0.31        44\n",
      "\n",
      "    accuracy                           0.97      1364\n",
      "   macro avg       0.79      0.60      0.64      1364\n",
      "weighted avg       0.96      0.97      0.96      1364\n",
      "\n"
     ]
    }
   ],
   "source": [
    "# Import required libraries\n",
    "import pandas as pd\n",
    "import numpy as np\n",
    "from sklearn.model_selection import train_test_split, GridSearchCV\n",
    "from sklearn.preprocessing import StandardScaler\n",
    "from sklearn.ensemble import RandomForestClassifier\n",
    "from sklearn.metrics import accuracy_score, precision_score, recall_score, f1_score, classification_report\n",
    "\n",
    "# Load the dataset\n",
    "file = \"D:/download/taiwanese+bankruptcy+prediction/data.csv\"\n",
    "df = pd.read_csv(file)\n",
    "\n",
    "# Remove extra spaces in column names\n",
    "df.columns = df.columns.str.strip()\n",
    "\n",
    "# List of expected important features\n",
    "top_20_features = [\n",
    "    \"Operating Profit Rate\", \"Debt Ratio %\", \"Net Worth/Total Assets\",\n",
    "    \"Interest-bearing debt interest rate\", \"Net Income to Total Assets\",\n",
    "    \"Total expenses/Assets\", \"Retained Earnings to Total Assets\",\n",
    "    \"ROA(C) before interest and depreciation before interest\", \"Total Asset Turnover\",\n",
    "    \"Net Value Per Share (A)\", \"Cash Flow to Total Assets\",\n",
    "    \"Persistent EPS in the Last Four Seasons\", \"Debt/Equity Ratio\",\n",
    "    \"Operating Gross Margin\", \"Interest Expense Ratio\", \"Cash/Current Liability\",\n",
    "    \"Quick Ratio\", \"ROA(A) before interest and %\", \"Total liabilities/Total Assets\",\n",
    "    \"Net profit before tax/Paid-in capital\"\n",
    "]\n",
    "\n",
    "# Find the exact matching column names\n",
    "existing_features = list(set(df.columns).intersection(set(top_20_features)))\n",
    "\n",
    "print(f\"Found {len(existing_features)} matching features: {existing_features}\")\n",
    "\n",
    "# Ensure we have at least some features to proceed\n",
    "if len(existing_features) < 10:\n",
    "    raise ValueError(\"Not enough matching features found! Please check column names.\")\n",
    "\n",
    "# Define X and y with the matched features\n",
    "X = df[existing_features]\n",
    "y = df[\"Bankrupt?\"]\n",
    "\n",
    "# Split into training and testing sets\n",
    "X_train, X_test, y_train, y_test = train_test_split(X, y, test_size=0.2, random_state=42, stratify=y)\n",
    "\n",
    "# Feature Scaling\n",
    "scaler = StandardScaler()\n",
    "X_train_scaled = scaler.fit_transform(X_train)\n",
    "X_test_scaled = scaler.transform(X_test)\n",
    "\n",
    "# Model Design and Training\n",
    "rf = RandomForestClassifier(random_state=42)\n",
    "param_grid = {\n",
    "    'n_estimators': [50, 100, 200],\n",
    "    'max_depth': [None, 10, 20],\n",
    "    'min_samples_split': [2, 5, 10],\n",
    "    'min_samples_leaf': [1, 2, 4]\n",
    "}\n",
    "\n",
    "grid_search = GridSearchCV(rf, param_grid, cv=5, scoring='accuracy', n_jobs=-1)\n",
    "grid_search.fit(X_train_scaled, y_train)\n",
    "best_rf = grid_search.best_estimator_\n",
    "\n",
    "# Model Evaluation\n",
    "# Predictions\n",
    "y_pred = best_rf.predict(X_test_scaled)\n",
    "accuracy = accuracy_score(y_test, y_pred)\n",
    "precision = precision_score(y_test, y_pred)\n",
    "recall = recall_score(y_test, y_pred)\n",
    "f1 = f1_score(y_test, y_pred)\n",
    "\n",
    "# Print results\n",
    "print(\"Random Forest Performance with Top Features:\")\n",
    "print(f\"Accuracy: {accuracy:.4f}\")\n",
    "print(f\"Precision: {precision:.4f}\")\n",
    "print(f\"Recall: {recall:.4f}\")\n",
    "print(f\"F1 Score: {f1:.4f}\")\n",
    "print(\"\\nClassification Report:\")\n",
    "print(classification_report(y_test, y_pred))\n"
   ]
  },
  {
   "cell_type": "code",
   "execution_count": 5,
   "metadata": {},
   "outputs": [
    {
     "name": "stdout",
     "output_type": "stream",
     "text": [
      "✅ Model and scaler saved successfully as bankruptcy_model.pkl and scaler.pkl\n"
     ]
    }
   ],
   "source": [
    "import pickle\n",
    "# Save the trained Random Forest model\n",
    "with open(\"bankruptcy_model.pkl\", \"wb\") as model_file:\n",
    "    pickle.dump(rf, model_file)\n",
    "\n",
    "# Save the scaler\n",
    "with open(\"scaler.pkl\", \"wb\") as scaler_file:\n",
    "    pickle.dump(scaler, scaler_file)\n",
    "\n",
    "print(\"✅ Model and scaler saved successfully as bankruptcy_model.pkl and scaler.pkl\")\n"
   ]
  },
  {
   "cell_type": "code",
   "execution_count": null,
   "metadata": {},
   "outputs": [],
   "source": []
  }
 ],
 "metadata": {
  "kernelspec": {
   "display_name": "Python 3",
   "language": "python",
   "name": "python3"
  },
  "language_info": {
   "codemirror_mode": {
    "name": "ipython",
    "version": 3
   },
   "file_extension": ".py",
   "mimetype": "text/x-python",
   "name": "python",
   "nbconvert_exporter": "python",
   "pygments_lexer": "ipython3",
   "version": "3.13.2"
  }
 },
 "nbformat": 4,
 "nbformat_minor": 2
}
